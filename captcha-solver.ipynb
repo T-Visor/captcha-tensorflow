{
 "cells": [
  {
   "cell_type": "markdown",
   "metadata": {},
   "source": [
    "# Automated CAPTCHA Solving With Machine Learning\n",
    "\n",
    "This notebook demonstrates the use of convolutional neural networks and supervised training to automate CAPTCHA-solving. \n",
    "\n",
    "Original Author: Jackon Yang (2017)\n",
    "\n",
    "Further Modified By: Turhan Kimbrough (2021)\n",
    "\n",
    "---"
   ]
  },
  {
   "cell_type": "code",
   "execution_count": 1,
   "metadata": {},
   "outputs": [],
   "source": [
    "import tensorflow as tf\n",
    "from tensorflow.keras import datasets, layers, models\n",
    "from PIL import Image\n",
    "import matplotlib.pyplot as plt\n",
    "import numpy as np\n",
    "import os\n",
    "import glob\n",
    "import pandas as pd"
   ]
  },
  {
   "cell_type": "code",
   "execution_count": 2,
   "metadata": {},
   "outputs": [],
   "source": [
    "data_directory = os.path.join(os.getcwd() + '/datasets/captcha_img')\n",
    "image_height = 100\n",
    "image_width = 100\n",
    "image_channels = 3\n",
    "categories = 10 # represents digits 0-9\n",
    "dimensions = 4  # 4-digit CAPTCHA images"
   ]
  },
  {
   "cell_type": "markdown",
   "metadata": {},
   "source": [
    "---\n",
    "## Preparing the Dataset\n",
    "\n"
   ]
  },
  {
   "cell_type": "code",
   "execution_count": 3,
   "metadata": {},
   "outputs": [],
   "source": [
    "def parse_file_path(file_path):\n",
    "    \"\"\"\n",
    "    Args:\n",
    "        file_path (str): the path to the CAPTCHA image\n",
    "    \n",
    "    Returns:\n",
    "        the 'label' for each CAPTCHA denoted by the \n",
    "        string in the file name before the '_'\n",
    "        character\n",
    "\n",
    "        Example: file_name = 9876_image.png\n",
    "                 Resulting label -> 9876 \n",
    "    \"\"\"\n",
    "    try:\n",
    "        path, file_name = os.path.split(file_path)\n",
    "        file_name, extension = os.path.splitext(file_name)\n",
    "        label, _ = file_name.split(\"_\")\n",
    "        return label\n",
    "    except Exception as e:\n",
    "        print('error while parsing %s. %s' % (file_path, e))\n",
    "        return None, None"
   ]
  },
  {
   "cell_type": "markdown",
   "metadata": {},
   "source": [
    "Store each CAPTCHA-image file path with its respective label\n",
    "into a pandas DataFrame."
   ]
  },
  {
   "cell_type": "code",
   "execution_count": 4,
   "metadata": {},
   "outputs": [
    {
     "data": {
      "text/html": [
       "<div>\n",
       "<style scoped>\n",
       "    .dataframe tbody tr th:only-of-type {\n",
       "        vertical-align: middle;\n",
       "    }\n",
       "\n",
       "    .dataframe tbody tr th {\n",
       "        vertical-align: top;\n",
       "    }\n",
       "\n",
       "    .dataframe thead th {\n",
       "        text-align: right;\n",
       "    }\n",
       "</style>\n",
       "<table border=\"1\" class=\"dataframe\">\n",
       "  <thead>\n",
       "    <tr style=\"text-align: right;\">\n",
       "      <th></th>\n",
       "      <th>label</th>\n",
       "      <th>file</th>\n",
       "    </tr>\n",
       "  </thead>\n",
       "  <tbody>\n",
       "    <tr>\n",
       "      <th>0</th>\n",
       "      <td>2235</td>\n",
       "      <td>/Users/turhanakira/repositories/captcha-tensor...</td>\n",
       "    </tr>\n",
       "    <tr>\n",
       "      <th>1</th>\n",
       "      <td>5309</td>\n",
       "      <td>/Users/turhanakira/repositories/captcha-tensor...</td>\n",
       "    </tr>\n",
       "    <tr>\n",
       "      <th>2</th>\n",
       "      <td>5623</td>\n",
       "      <td>/Users/turhanakira/repositories/captcha-tensor...</td>\n",
       "    </tr>\n",
       "    <tr>\n",
       "      <th>3</th>\n",
       "      <td>7626</td>\n",
       "      <td>/Users/turhanakira/repositories/captcha-tensor...</td>\n",
       "    </tr>\n",
       "    <tr>\n",
       "      <th>4</th>\n",
       "      <td>0230</td>\n",
       "      <td>/Users/turhanakira/repositories/captcha-tensor...</td>\n",
       "    </tr>\n",
       "  </tbody>\n",
       "</table>\n",
       "</div>"
      ],
      "text/plain": [
       "  label                                               file\n",
       "0  2235  /Users/turhanakira/repositories/captcha-tensor...\n",
       "1  5309  /Users/turhanakira/repositories/captcha-tensor...\n",
       "2  5623  /Users/turhanakira/repositories/captcha-tensor...\n",
       "3  7626  /Users/turhanakira/repositories/captcha-tensor...\n",
       "4  0230  /Users/turhanakira/repositories/captcha-tensor..."
      ]
     },
     "execution_count": 4,
     "metadata": {},
     "output_type": "execute_result"
    }
   ],
   "source": [
    "files = glob.glob(os.path.join(data_directory, \"*.png\"))\n",
    "attributes = list(map(parse_file_path, files))\n",
    "\n",
    "data_frame = pd.DataFrame(attributes)\n",
    "data_frame['file'] = files\n",
    "data_frame.columns = ['label', 'file']\n",
    "data_frame = data_frame.dropna()\n",
    "data_frame.head()"
   ]
  },
  {
   "cell_type": "markdown",
   "metadata": {},
   "source": [
    "---\n",
    "Shuffle the data and create a training set, validation set, and testing set."
   ]
  },
  {
   "cell_type": "code",
   "execution_count": 5,
   "metadata": {},
   "outputs": [
    {
     "name": "stdout",
     "output_type": "stream",
     "text": [
      "train count: 3107, validation count: 1332, test count: 1903\n"
     ]
    }
   ],
   "source": [
    "shuffled_indeces = np.random.permutation(len(data_frame))\n",
    "train_up_to = int(len(data_frame) * 0.7)\n",
    "train_indices = shuffled_indeces[:train_up_to]\n",
    "test_indices = shuffled_indeces[train_up_to:]\n",
    "\n",
    "# Further split up the training data.\n",
    "train_up_to = int(train_up_to * 0.7)\n",
    "train_indices, validation_indices = train_indices[:train_up_to], train_indices[train_up_to:]\n",
    "\n",
    "print('train count: %s, validation count: %s, test count: %s' % (\n",
    "    len(train_indices), len(validation_indices), len(test_indices)))"
   ]
  },
  {
   "cell_type": "markdown",
   "metadata": {},
   "source": [
    "---\n",
    "## Neural Network Structure\n",
    "\n",
    "**'relu'** stands for **'Rectified Linear Unit'**, the most commonly used activation function for convolutional neural networks.\n",
    "\n",
    "**'softmax'** is another activation function used for classifying data.\n",
    "\n",
    "Activation functions are analagous to the 'firing' of neurons in biological neural networks.\n",
    "\n",
    "**Layers**:\n",
    "- Convolutional layer: applies a filter to the CAPTCHA image to extract features (characters and/or digits) from the image\n",
    "- Pooling layer: immediately follows a convolutional layer and used to downscale the image after each filter is applied\n",
    "- Flattening layer: converts the CAPTCHA image represented as a 3D tensor (array) to a 1D tensor\n",
    "- Dense layer: used to assist with operations on an n-dimensional tensor such as rotation, scaling, etc\n",
    "- Reshape layer: used to restructure the output of the neural network"
   ]
  },
  {
   "cell_type": "code",
   "execution_count": 6,
   "metadata": {
    "scrolled": false
   },
   "outputs": [
    {
     "name": "stdout",
     "output_type": "stream",
     "text": [
      "Model: \"model\"\n",
      "_________________________________________________________________\n",
      "Layer (type)                 Output Shape              Param #   \n",
      "=================================================================\n",
      "input_1 (InputLayer)         [(None, 100, 100, 3)]     0         \n",
      "_________________________________________________________________\n",
      "conv2d (Conv2D)              (None, 98, 98, 32)        896       \n",
      "_________________________________________________________________\n",
      "max_pooling2d (MaxPooling2D) (None, 49, 49, 32)        0         \n",
      "_________________________________________________________________\n",
      "conv2d_1 (Conv2D)            (None, 47, 47, 64)        18496     \n",
      "_________________________________________________________________\n",
      "max_pooling2d_1 (MaxPooling2 (None, 23, 23, 64)        0         \n",
      "_________________________________________________________________\n",
      "conv2d_2 (Conv2D)            (None, 21, 21, 64)        36928     \n",
      "_________________________________________________________________\n",
      "max_pooling2d_2 (MaxPooling2 (None, 10, 10, 64)        0         \n",
      "_________________________________________________________________\n",
      "flatten (Flatten)            (None, 6400)              0         \n",
      "_________________________________________________________________\n",
      "dense (Dense)                (None, 1024)              6554624   \n",
      "_________________________________________________________________\n",
      "dense_1 (Dense)              (None, 40)                41000     \n",
      "_________________________________________________________________\n",
      "reshape (Reshape)            (None, 4, 10)             0         \n",
      "=================================================================\n",
      "Total params: 6,651,944\n",
      "Trainable params: 6,651,944\n",
      "Non-trainable params: 0\n",
      "_________________________________________________________________\n"
     ]
    },
    {
     "name": "stderr",
     "output_type": "stream",
     "text": [
      "2021-08-27 19:53:28.714702: I tensorflow/core/platform/cpu_feature_guard.cc:142] This TensorFlow binary is optimized with oneAPI Deep Neural Network Library (oneDNN) to use the following CPU instructions in performance-critical operations:  AVX2 FMA\n",
      "To enable them in other operations, rebuild TensorFlow with the appropriate compiler flags.\n"
     ]
    }
   ],
   "source": [
    "from tensorflow.keras.layers import Input, Dense, BatchNormalization, Conv2D, MaxPool2D, GlobalMaxPool2D, Dropout\n",
    "from tensorflow.keras.optimizers import SGD\n",
    "from tensorflow.keras.models import Model\n",
    "\n",
    "input_layer = tf.keras.Input(shape=(image_height, image_width, image_channels))\n",
    "\n",
    "hidden_layers = layers.Conv2D(32, 3, activation='relu')(input_layer)\n",
    "hidden_layers = layers.MaxPooling2D((2, 2))(hidden_layers)\n",
    "hidden_layers = layers.Conv2D(64, 3, activation='relu')(hidden_layers)\n",
    "hidden_layers = layers.MaxPooling2D((2, 2))(hidden_layers)\n",
    "hidden_layers = layers.Conv2D(64, 3, activation='relu')(hidden_layers)\n",
    "hidden_layers = layers.MaxPooling2D((2, 2))(hidden_layers)\n",
    "\n",
    "hidden_layers = layers.Flatten()(hidden_layers)\n",
    "\n",
    "hidden_layers = layers.Dense(1024, activation='relu')(hidden_layers)\n",
    "hidden_layers = layers.Dense(dimensions * categories, activation='softmax')(hidden_layers)\n",
    "hidden_layers = layers.Reshape((dimensions, categories))(hidden_layers)\n",
    "\n",
    "model = models.Model(inputs=input_layer, outputs=hidden_layers)\n",
    "\n",
    "model.compile(optimizer='adam', \n",
    "              loss='categorical_crossentropy',\n",
    "              metrics= ['accuracy'])\n",
    "model.summary()"
   ]
  },
  {
   "cell_type": "markdown",
   "metadata": {},
   "source": [
    "---\n",
    "## Training the Model"
   ]
  },
  {
   "cell_type": "code",
   "execution_count": 7,
   "metadata": {},
   "outputs": [],
   "source": [
    "from tensorflow.keras.utils import to_categorical\n",
    "from PIL import Image\n",
    "\n",
    "\n",
    "def get_captcha_generator(data_frame, indices, for_training, batch_size=16):\n",
    "    \"\"\"    \n",
    "    Args:\n",
    "        data_frame (pandas.DataFrame): contains the file paths to the CAPTCHA images and their labels\n",
    "        \n",
    "        indices (int): specifies training indices, testing indices, or validation indices of the DataFrame\n",
    "        \n",
    "        for_training (bool): 'True' for training or validation set, 'False' to specify a test set \n",
    "        \n",
    "        batch_size (int): number of data instances to return when iterated upon\n",
    "    \n",
    "    Returns:\n",
    "        a generator object for producing CAPTCHA images along with their labels\n",
    "        \n",
    "    Yields:\n",
    "        a pair of lists -> (CAPTCHA images, labels)\n",
    "    \"\"\"\n",
    "    \n",
    "    images, labels = [], []\n",
    "    \n",
    "    while True:\n",
    "        for i in indices:\n",
    "            captcha = data_frame.iloc[i]\n",
    "            file, label = captcha['file'], captcha['label']\n",
    "            captcha_image = Image.open(file)\n",
    "            captcha_image = captcha_image.resize((image_height, image_width))\n",
    "            captcha_image = np.array(captcha_image) / 255.0\n",
    "            images.append(np.array(captcha_image))\n",
    "            labels.append(np.array([np.array(to_categorical(int(i), categories)) for i in label]))\n",
    "            if len(images) >= batch_size:\n",
    "                yield np.array(images), np.array(labels)\n",
    "                images, labels = [], []\n",
    "        if not for_training:\n",
    "            break"
   ]
  },
  {
   "cell_type": "code",
   "execution_count": 8,
   "metadata": {
    "scrolled": false
   },
   "outputs": [
    {
     "name": "stdout",
     "output_type": "stream",
     "text": [
      "Epoch 1/10\n"
     ]
    },
    {
     "name": "stderr",
     "output_type": "stream",
     "text": [
      "2021-08-27 19:53:28.928786: I tensorflow/compiler/mlir/mlir_graph_optimization_pass.cc:185] None of the MLIR Optimization Passes are enabled (registered 2)\n"
     ]
    },
    {
     "name": "stdout",
     "output_type": "stream",
     "text": [
      "48/48 [==============================] - 14s 287ms/step - loss: 2.3081 - accuracy: 0.1236 - val_loss: 2.2399 - val_accuracy: 0.3430\n",
      "Epoch 2/10\n",
      "48/48 [==============================] - 14s 284ms/step - loss: 1.3672 - accuracy: 0.5555 - val_loss: 0.5554 - val_accuracy: 0.8146\n",
      "Epoch 3/10\n",
      "48/48 [==============================] - 14s 282ms/step - loss: 0.2167 - accuracy: 0.9390 - val_loss: 0.1106 - val_accuracy: 0.9678\n",
      "Epoch 4/10\n",
      "48/48 [==============================] - 14s 290ms/step - loss: 0.0481 - accuracy: 0.9876 - val_loss: 0.0642 - val_accuracy: 0.9812\n",
      "Epoch 5/10\n",
      "48/48 [==============================] - 14s 293ms/step - loss: 0.0158 - accuracy: 0.9966 - val_loss: 0.0591 - val_accuracy: 0.9818\n",
      "Epoch 6/10\n",
      "48/48 [==============================] - 14s 293ms/step - loss: 0.0077 - accuracy: 0.9985 - val_loss: 0.0489 - val_accuracy: 0.9854\n",
      "Epoch 7/10\n",
      "48/48 [==============================] - 14s 291ms/step - loss: 0.0027 - accuracy: 0.9998 - val_loss: 0.0547 - val_accuracy: 0.9850\n",
      "Epoch 8/10\n",
      "48/48 [==============================] - 14s 290ms/step - loss: 0.0019 - accuracy: 1.0000 - val_loss: 0.0457 - val_accuracy: 0.9869\n",
      "Epoch 9/10\n",
      "48/48 [==============================] - 14s 288ms/step - loss: 8.2978e-04 - accuracy: 1.0000 - val_loss: 0.0478 - val_accuracy: 0.9875\n",
      "Epoch 10/10\n",
      "48/48 [==============================] - 14s 283ms/step - loss: 4.4204e-04 - accuracy: 1.0000 - val_loss: 0.0485 - val_accuracy: 0.9873\n"
     ]
    }
   ],
   "source": [
    "from tensorflow.keras.callbacks import ModelCheckpoint\n",
    "\n",
    "batch_size = 64\n",
    "validation_batch_size = 64\n",
    "training_set_generator = get_captcha_generator(data_frame, train_indices, \\\n",
    "                                               for_training=True, batch_size=batch_size)\n",
    "validation_set_generator = get_captcha_generator(data_frame, validation_indices, \\\n",
    "                                                 for_training=True, batch_size=validation_batch_size)\n",
    "\n",
    "callbacks = [\n",
    "    ModelCheckpoint(\"./model_checkpoint\", monitor='val_loss')\n",
    "]\n",
    "\n",
    "history = model.fit(training_set_generator,\n",
    "                    steps_per_epoch=len(train_indices)//batch_size,\n",
    "                    epochs=10,\n",
    "                    validation_data=validation_set_generator,\n",
    "                    validation_steps=len(validation_indices)//validation_batch_size)"
   ]
  },
  {
   "cell_type": "markdown",
   "metadata": {},
   "source": [
    "---\n",
    "## Analyzing Model Performance"
   ]
  },
  {
   "cell_type": "code",
   "execution_count": 9,
   "metadata": {
    "scrolled": false
   },
   "outputs": [
    {
     "data": {
      "image/png": "[encoded data removed]",
      "text/plain": [
       "<Figure size 1440x360 with 2 Axes>"
      ]
     },
     "metadata": {
      "needs_background": "light"
     },
     "output_type": "display_data"
    }
   ],
   "source": [
    "def plot_train_history(history):\n",
    "    figure, axes = plt.subplots(1, 2, figsize=(20, 5))\n",
    "\n",
    "    axes[0].plot(history.history['accuracy'], label='Training accuracy')\n",
    "    axes[0].plot(history.history['val_accuracy'], label='Validation accuracy')\n",
    "    axes[0].set_xlabel('Epochs')\n",
    "    axes[0].legend() \n",
    "\n",
    "    axes[1].plot(history.history['loss'], label='Training loss')\n",
    "    axes[1].plot(history.history['val_loss'], label='Validation loss')\n",
    "    axes[1].set_xlabel('Epochs')\n",
    "    axes[1].legend()\n",
    "\n",
    "plot_train_history(history)"
   ]
  },
  {
   "cell_type": "code",
   "execution_count": null,
   "metadata": {},
   "outputs": [
    {
     "name": "stdout",
     "output_type": "stream",
     "text": [
      " 2/14 [===>..........................] - ETA: 2s - loss: 0.0449 - accuracy: 0.9863"
     ]
    }
   ],
   "source": [
    "testing_set_generator = get_captcha_generator(data_frame, test_indices, for_training=False, batch_size=128)\n",
    "dict(zip(model.metrics_names, model.evaluate(testing_set_generator, steps=len(test_indices)//128)))"
   ]
  },
  {
   "cell_type": "markdown",
   "metadata": {},
   "source": [
    "---\n",
    "## Evaluating Model on New Data"
   ]
  },
  {
   "cell_type": "code",
   "execution_count": null,
   "metadata": {},
   "outputs": [],
   "source": [
    "testing_set_generator = get_captcha_generator(data_frame, test_indices, for_training=False, batch_size=128)\n",
    "captcha_images, captcha_text = next(testing_set_generator)\n",
    "\n",
    "predictions = model.predict_on_batch(captcha_images)\n",
    "\n",
    "true_values = tf.math.argmax(captcha_text, axis=-1)\n",
    "predictions = tf.math.argmax(predictions, axis=-1)"
   ]
  },
  {
   "cell_type": "code",
   "execution_count": null,
   "metadata": {},
   "outputs": [],
   "source": [
    "import math\n",
    "\n",
    "total_to_display = 30\n",
    "columns = 5\n",
    "random_indices = np.random.permutation(total_to_display)\n",
    "rows = math.ceil(total_to_display / columns)\n",
    "\n",
    "figure, axes = plt.subplots(rows, columns, figsize=(15, 20))\n",
    "\n",
    "for i, image_index in enumerate(random_indices):\n",
    "    result = axes.flat[i]\n",
    "    result.imshow(captcha_images[image_index])\n",
    "    result.set_title('prediction: {}'.format(\n",
    "        ''.join(map(str, predictions[image_index].numpy()))))\n",
    "    result.set_xlabel('true value: {}'.format(\n",
    "        ''.join(map(str, true_values[image_index].numpy()))))\n",
    "    result.set_xticks([])\n",
    "    result.set_yticks([])"
   ]
  },
  {
   "cell_type": "code",
   "execution_count": null,
   "metadata": {},
   "outputs": [],
   "source": [
    "model.save('my_model')"
   ]
  }
 ],
 "metadata": {
  "kernelspec": {
   "display_name": "Python 3 (ipykernel)",
   "language": "python",
   "name": "python3"
  },
  "language_info": {
   "codemirror_mode": {
    "name": "ipython",
    "version": 3
   },
   "file_extension": ".py",
   "mimetype": "text/x-python",
   "name": "python",
   "nbconvert_exporter": "python",
   "pygments_lexer": "ipython3",
   "version": "3.9.6"
  }
 },
 "nbformat": 4,
 "nbformat_minor": 2
}
