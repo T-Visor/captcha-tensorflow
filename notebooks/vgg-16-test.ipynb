{
 "cells": [
  {
   "cell_type": "markdown",
   "metadata": {},
   "source": [
    "# Automated CAPTCHA Solving With Deep Learning\n",
    "\n",
    "This notebook demonstrates the use of convolutional neural networks and supervised training to automate CAPTCHA-solving. \n",
    "\n",
    "Original Author: Jackon Yang (2017)\n",
    "\n",
    "Further Modified By: Turhan Kimbrough (2021)\n",
    "\n",
    "---"
   ]
  },
  {
   "cell_type": "code",
   "execution_count": 1,
   "metadata": {},
   "outputs": [],
   "source": [
    "import os\n",
    "\n",
    "# Functions from other notebook file.\n",
    "from ipynb.fs.full.shared_functions import *"
   ]
  },
  {
   "cell_type": "code",
   "execution_count": 2,
   "metadata": {},
   "outputs": [],
   "source": [
    "# Move one directory back to the project root.\n",
    "os.chdir(\"..\")"
   ]
  },
  {
   "cell_type": "code",
   "execution_count": 3,
   "metadata": {},
   "outputs": [],
   "source": [
    "# Suppress tensorflow log messages.\n",
    "os.environ['TF_CPP_MIN_LOG_LEVEL'] = '3'"
   ]
  },
  {
   "cell_type": "code",
   "execution_count": 4,
   "metadata": {},
   "outputs": [],
   "source": [
    "# GLOBALS\n",
    "DATA_DIRECTORY = os.path.join(os.getcwd() + '/datasets/vgg-16-data')\n",
    "\n",
    "IMAGE_HEIGHT = 224\n",
    "IMAGE_WIDTH = 224\n",
    "IMAGE_CHANNELS = 3\n",
    "\n",
    "CATEGORIES = 10 # represents digits 0-9\n",
    "DIMENSIONS = 4  # 4-digit CAPTCHA images\n",
    "\n",
    "TRAINING_EPOCHS = 20\n",
    "\n",
    "TRAINING_BATCH_SIZE = 16\n",
    "VALIDATION_BATCH_SIZE = 16\n",
    "TESTING_BATCH_SIZE = 16"
   ]
  },
  {
   "cell_type": "markdown",
   "metadata": {},
   "source": [
    "---\n",
    "## Prepare the Dataset\n",
    "\n"
   ]
  },
  {
   "cell_type": "markdown",
   "metadata": {},
   "source": [
    "Store each CAPTCHA-image file path with its respective label\n",
    "into a pandas DataFrame."
   ]
  },
  {
   "cell_type": "code",
   "execution_count": 5,
   "metadata": {},
   "outputs": [
    {
     "data": {
      "text/html": [
       "<div>\n",
       "<style scoped>\n",
       "    .dataframe tbody tr th:only-of-type {\n",
       "        vertical-align: middle;\n",
       "    }\n",
       "\n",
       "    .dataframe tbody tr th {\n",
       "        vertical-align: top;\n",
       "    }\n",
       "\n",
       "    .dataframe thead th {\n",
       "        text-align: right;\n",
       "    }\n",
       "</style>\n",
       "<table border=\"1\" class=\"dataframe\">\n",
       "  <thead>\n",
       "    <tr style=\"text-align: right;\">\n",
       "      <th></th>\n",
       "      <th>label</th>\n",
       "      <th>file</th>\n",
       "    </tr>\n",
       "  </thead>\n",
       "  <tbody>\n",
       "    <tr>\n",
       "      <th>0</th>\n",
       "      <td>1163</td>\n",
       "      <td>/mnt/wd-blue/captcha-tensorflow/datasets/vgg-1...</td>\n",
       "    </tr>\n",
       "    <tr>\n",
       "      <th>1</th>\n",
       "      <td>4262</td>\n",
       "      <td>/mnt/wd-blue/captcha-tensorflow/datasets/vgg-1...</td>\n",
       "    </tr>\n",
       "    <tr>\n",
       "      <th>2</th>\n",
       "      <td>2097</td>\n",
       "      <td>/mnt/wd-blue/captcha-tensorflow/datasets/vgg-1...</td>\n",
       "    </tr>\n",
       "    <tr>\n",
       "      <th>3</th>\n",
       "      <td>4147</td>\n",
       "      <td>/mnt/wd-blue/captcha-tensorflow/datasets/vgg-1...</td>\n",
       "    </tr>\n",
       "    <tr>\n",
       "      <th>4</th>\n",
       "      <td>6131</td>\n",
       "      <td>/mnt/wd-blue/captcha-tensorflow/datasets/vgg-1...</td>\n",
       "    </tr>\n",
       "  </tbody>\n",
       "</table>\n",
       "</div>"
      ],
      "text/plain": [
       "  label                                               file\n",
       "0  1163  /mnt/wd-blue/captcha-tensorflow/datasets/vgg-1...\n",
       "1  4262  /mnt/wd-blue/captcha-tensorflow/datasets/vgg-1...\n",
       "2  2097  /mnt/wd-blue/captcha-tensorflow/datasets/vgg-1...\n",
       "3  4147  /mnt/wd-blue/captcha-tensorflow/datasets/vgg-1...\n",
       "4  6131  /mnt/wd-blue/captcha-tensorflow/datasets/vgg-1..."
      ]
     },
     "execution_count": 5,
     "metadata": {},
     "output_type": "execute_result"
    }
   ],
   "source": [
    "data_frame = create_captcha_dataframe(DATA_DIRECTORY)\n",
    "data_frame.head()"
   ]
  },
  {
   "cell_type": "markdown",
   "metadata": {},
   "source": [
    "---\n",
    "Shuffle the data and create a training set, validation set, and testing set."
   ]
  },
  {
   "cell_type": "code",
   "execution_count": 6,
   "metadata": {},
   "outputs": [
    {
     "name": "stdout",
     "output_type": "stream",
     "text": [
      "train count: 4900, validation count: 2100, test count: 3000\n"
     ]
    }
   ],
   "source": [
    "train_indices, validation_indices, test_indices = shuffle_and_split_data(data_frame)\n",
    "\n",
    "print('train count: %s, validation count: %s, test count: %s' % (\n",
    "    len(train_indices), len(validation_indices), len(test_indices)))"
   ]
  },
  {
   "cell_type": "markdown",
   "metadata": {},
   "source": [
    "---\n",
    "## Get a baseline sequential model"
   ]
  },
  {
   "cell_type": "code",
   "execution_count": 7,
   "metadata": {
    "scrolled": false
   },
   "outputs": [
    {
     "name": "stdout",
     "output_type": "stream",
     "text": [
      "Model: \"model\"\n",
      "_________________________________________________________________\n",
      "Layer (type)                 Output Shape              Param #   \n",
      "=================================================================\n",
      "input_1 (InputLayer)         [(None, 224, 224, 3)]     0         \n",
      "_________________________________________________________________\n",
      "block1_conv1 (Conv2D)        (None, 224, 224, 64)      1792      \n",
      "_________________________________________________________________\n",
      "block1_conv2 (Conv2D)        (None, 224, 224, 64)      36928     \n",
      "_________________________________________________________________\n",
      "block1_pool (MaxPooling2D)   (None, 112, 112, 64)      0         \n",
      "_________________________________________________________________\n",
      "block2_conv1 (Conv2D)        (None, 112, 112, 128)     73856     \n",
      "_________________________________________________________________\n",
      "block2_conv2 (Conv2D)        (None, 112, 112, 128)     147584    \n",
      "_________________________________________________________________\n",
      "block2_pool (MaxPooling2D)   (None, 56, 56, 128)       0         \n",
      "_________________________________________________________________\n",
      "block3_conv1 (Conv2D)        (None, 56, 56, 256)       295168    \n",
      "_________________________________________________________________\n",
      "block3_conv2 (Conv2D)        (None, 56, 56, 256)       590080    \n",
      "_________________________________________________________________\n",
      "block3_conv3 (Conv2D)        (None, 56, 56, 256)       590080    \n",
      "_________________________________________________________________\n",
      "block3_pool (MaxPooling2D)   (None, 28, 28, 256)       0         \n",
      "_________________________________________________________________\n",
      "block4_conv1 (Conv2D)        (None, 28, 28, 512)       1180160   \n",
      "_________________________________________________________________\n",
      "block4_conv2 (Conv2D)        (None, 28, 28, 512)       2359808   \n",
      "_________________________________________________________________\n",
      "block4_conv3 (Conv2D)        (None, 28, 28, 512)       2359808   \n",
      "_________________________________________________________________\n",
      "block4_pool (MaxPooling2D)   (None, 14, 14, 512)       0         \n",
      "_________________________________________________________________\n",
      "block5_conv1 (Conv2D)        (None, 14, 14, 512)       2359808   \n",
      "_________________________________________________________________\n",
      "block5_conv2 (Conv2D)        (None, 14, 14, 512)       2359808   \n",
      "_________________________________________________________________\n",
      "block5_conv3 (Conv2D)        (None, 14, 14, 512)       2359808   \n",
      "_________________________________________________________________\n",
      "block5_pool (MaxPooling2D)   (None, 7, 7, 512)         0         \n",
      "_________________________________________________________________\n",
      "flatten (Flatten)            (None, 25088)             0         \n",
      "_________________________________________________________________\n",
      "dense (Dense)                (None, 1024)              25691136  \n",
      "_________________________________________________________________\n",
      "dense_1 (Dense)              (None, 40)                41000     \n",
      "_________________________________________________________________\n",
      "reshape (Reshape)            (None, 4, 10)             0         \n",
      "=================================================================\n",
      "Total params: 40,446,824\n",
      "Trainable params: 40,446,824\n",
      "Non-trainable params: 0\n",
      "_________________________________________________________________\n"
     ]
    }
   ],
   "source": [
    "model = create_untrained_vgg16_model(IMAGE_HEIGHT, \n",
    "                                     IMAGE_WIDTH, \n",
    "                                     IMAGE_CHANNELS,\n",
    "                                     DIMENSIONS, \n",
    "                                     CATEGORIES)\n",
    "\n",
    "model.summary()"
   ]
  },
  {
   "cell_type": "markdown",
   "metadata": {},
   "source": [
    "---\n",
    "## Train the Model"
   ]
  },
  {
   "cell_type": "code",
   "execution_count": 8,
   "metadata": {
    "scrolled": false
   },
   "outputs": [
    {
     "name": "stdout",
     "output_type": "stream",
     "text": [
      "Epoch 1/20\n",
      "306/306 [==============================] - 224s 632ms/step - loss: 2.3984 - accuracy: 0.0978 - val_loss: 2.3025 - val_accuracy: 0.1050\n",
      "Epoch 2/20\n",
      "306/306 [==============================] - 193s 631ms/step - loss: 2.3027 - accuracy: 0.1021 - val_loss: 2.3020 - val_accuracy: 0.1076\n",
      "Epoch 3/20\n",
      "306/306 [==============================] - 193s 631ms/step - loss: 2.3027 - accuracy: 0.1006 - val_loss: 2.3028 - val_accuracy: 0.1000\n",
      "Epoch 4/20\n",
      "306/306 [==============================] - 193s 631ms/step - loss: 2.3027 - accuracy: 0.1032 - val_loss: 2.3017 - val_accuracy: 0.1106\n",
      "Epoch 5/20\n",
      "306/306 [==============================] - 188s 615ms/step - loss: 2.3026 - accuracy: 0.1036 - val_loss: 2.3027 - val_accuracy: 0.0991\n",
      "Epoch 6/20\n",
      "306/306 [==============================] - 181s 593ms/step - loss: 2.3026 - accuracy: 0.1035 - val_loss: 2.3018 - val_accuracy: 0.1121\n",
      "Epoch 7/20\n",
      "306/306 [==============================] - 181s 593ms/step - loss: 2.3026 - accuracy: 0.1031 - val_loss: 2.3025 - val_accuracy: 0.1017\n",
      "Epoch 8/20\n",
      "306/306 [==============================] - 181s 593ms/step - loss: 2.3026 - accuracy: 0.1025 - val_loss: 2.3023 - val_accuracy: 0.1042\n",
      "Epoch 9/20\n",
      "306/306 [==============================] - 182s 593ms/step - loss: 2.3026 - accuracy: 0.1029 - val_loss: 2.3019 - val_accuracy: 0.1081\n",
      "Epoch 10/20\n",
      "306/306 [==============================] - 182s 594ms/step - loss: 2.3026 - accuracy: 0.1021 - val_loss: 2.3029 - val_accuracy: 0.1005\n",
      "Epoch 11/20\n",
      "306/306 [==============================] - 182s 594ms/step - loss: 2.3026 - accuracy: 0.1030 - val_loss: 2.3016 - val_accuracy: 0.1120\n",
      "Epoch 12/20\n",
      "306/306 [==============================] - 182s 593ms/step - loss: 2.3026 - accuracy: 0.1037 - val_loss: 2.3027 - val_accuracy: 0.0986\n",
      "Epoch 13/20\n",
      "306/306 [==============================] - 182s 594ms/step - loss: 2.3026 - accuracy: 0.1040 - val_loss: 2.3019 - val_accuracy: 0.1118\n",
      "Epoch 14/20\n",
      "306/306 [==============================] - 182s 594ms/step - loss: 2.3026 - accuracy: 0.1038 - val_loss: 2.3026 - val_accuracy: 0.1011\n",
      "Epoch 15/20\n",
      "306/306 [==============================] - 182s 594ms/step - loss: 2.3026 - accuracy: 0.1038 - val_loss: 2.3022 - val_accuracy: 0.1056\n",
      "Epoch 16/20\n",
      "306/306 [==============================] - 199s 652ms/step - loss: 2.3026 - accuracy: 0.1037 - val_loss: 2.3020 - val_accuracy: 0.1058\n",
      "Epoch 17/20\n",
      "306/306 [==============================] - 197s 645ms/step - loss: 2.3026 - accuracy: 0.1040 - val_loss: 2.3028 - val_accuracy: 0.1017\n",
      "Epoch 18/20\n",
      "306/306 [==============================] - 193s 630ms/step - loss: 2.3026 - accuracy: 0.1037 - val_loss: 2.3016 - val_accuracy: 0.1119\n",
      "Epoch 19/20\n",
      "306/306 [==============================] - 193s 631ms/step - loss: 2.3026 - accuracy: 0.1038 - val_loss: 2.3027 - val_accuracy: 0.0989\n",
      "Epoch 20/20\n",
      "306/306 [==============================] - 193s 631ms/step - loss: 2.3026 - accuracy: 0.1037 - val_loss: 2.3018 - val_accuracy: 0.1125\n"
     ]
    }
   ],
   "source": [
    "history = train_model(model, \n",
    "                      data_frame, \n",
    "                      train_indices, \n",
    "                      validation_indices, \n",
    "                      TRAINING_BATCH_SIZE, \n",
    "                      VALIDATION_BATCH_SIZE, \n",
    "                      TRAINING_EPOCHS,\n",
    "                      IMAGE_HEIGHT,\n",
    "                      IMAGE_WIDTH,\n",
    "                      CATEGORIES)"
   ]
  },
  {
   "cell_type": "markdown",
   "metadata": {},
   "source": [
    "---\n",
    "## Analyze Model Performance"
   ]
  },
  {
   "cell_type": "markdown",
   "metadata": {},
   "source": [
    "Plot the accuracy and loss metrics"
   ]
  },
  {
   "cell_type": "code",
   "execution_count": 9,
   "metadata": {
    "scrolled": false
   },
   "outputs": [
    {
     "data": {
      "image/png": "[encoded data removed]",
      "text/plain": [
       "<Figure size 1440x360 with 2 Axes>"
      ]
     },
     "metadata": {
      "needs_background": "light"
     },
     "output_type": "display_data"
    }
   ],
   "source": [
    "plot_training_history(history)"
   ]
  },
  {
   "cell_type": "markdown",
   "metadata": {},
   "source": [
    "Use some 'unseen' test samples"
   ]
  },
  {
   "cell_type": "code",
   "execution_count": 10,
   "metadata": {},
   "outputs": [
    {
     "name": "stdout",
     "output_type": "stream",
     "text": [
      "187/187 [==============================] - 34s 182ms/step - loss: 2.3035 - accuracy: 0.0949\n"
     ]
    },
    {
     "data": {
      "text/plain": [
       "{'loss': 2.3035221099853516, 'accuracy': 0.09491978585720062}"
      ]
     },
     "execution_count": 10,
     "metadata": {},
     "output_type": "execute_result"
    }
   ],
   "source": [
    "for_training=False\n",
    "\n",
    "testing_set_generator = get_captcha_generator(data_frame, \n",
    "                                              test_indices, \n",
    "                                              for_training, \n",
    "                                              TESTING_BATCH_SIZE,\n",
    "                                              IMAGE_HEIGHT,\n",
    "                                              IMAGE_WIDTH,\n",
    "                                              CATEGORIES)\n",
    "\n",
    "dict(zip(model.metrics_names, model.evaluate(testing_set_generator, \n",
    "                                             steps=len(test_indices)//TESTING_BATCH_SIZE)))"
   ]
  },
  {
   "cell_type": "markdown",
   "metadata": {},
   "source": [
    "---\n",
    "## Visualize Model Performance"
   ]
  },
  {
   "cell_type": "code",
   "execution_count": 16,
   "metadata": {},
   "outputs": [
    {
     "ename": "NameError",
     "evalue": "name 'train_indices' is not defined",
     "output_type": "error",
     "traceback": [
      "\u001b[0;31m---------------------------------------------------------------------------\u001b[0m",
      "\u001b[0;31mNameError\u001b[0m                                 Traceback (most recent call last)",
      "\u001b[0;32m/tmp/ipykernel_5318/2281218470.py\u001b[0m in \u001b[0;36m<module>\u001b[0;34m\u001b[0m\n\u001b[0;32m----> 1\u001b[0;31m captcha_images, predictions, true_values = get_prediction_results(model, \n\u001b[0m\u001b[1;32m      2\u001b[0m                                                                   \u001b[0mdata_frame\u001b[0m\u001b[0;34m,\u001b[0m\u001b[0;34m\u001b[0m\u001b[0;34m\u001b[0m\u001b[0m\n\u001b[1;32m      3\u001b[0m                                                                   \u001b[0mtest_indices\u001b[0m\u001b[0;34m,\u001b[0m\u001b[0;34m\u001b[0m\u001b[0;34m\u001b[0m\u001b[0m\n\u001b[1;32m      4\u001b[0m                                                                   \u001b[0mTESTING_BATCH_SIZE\u001b[0m\u001b[0;34m,\u001b[0m\u001b[0;34m\u001b[0m\u001b[0;34m\u001b[0m\u001b[0m\n\u001b[1;32m      5\u001b[0m                                                                   \u001b[0mIMAGE_HEIGHT\u001b[0m\u001b[0;34m,\u001b[0m\u001b[0;34m\u001b[0m\u001b[0;34m\u001b[0m\u001b[0m\n",
      "\u001b[0;32m/mnt/wd-blue/captcha-tensorflow/notebooks/shared_functions.ipynb\u001b[0m in \u001b[0;36mget_prediction_results\u001b[0;34m(model, data_frame, test_indices, testing_batch_size, image_height, image_width, categories)\u001b[0m\n\u001b[1;32m    271\u001b[0m     \u001b[0;34m\"            file, label = captcha['file'], captcha['label']\\n\"\u001b[0m\u001b[0;34m,\u001b[0m\u001b[0;34m\u001b[0m\u001b[0;34m\u001b[0m\u001b[0m\n\u001b[1;32m    272\u001b[0m     \u001b[0;34m\"            \\n\"\u001b[0m\u001b[0;34m,\u001b[0m\u001b[0;34m\u001b[0m\u001b[0;34m\u001b[0m\u001b[0m\n\u001b[0;32m--> 273\u001b[0;31m     \u001b[0;34m\"            captcha_image = Image.open(file)\\n\"\u001b[0m\u001b[0;34m,\u001b[0m\u001b[0;34m\u001b[0m\u001b[0;34m\u001b[0m\u001b[0m\n\u001b[0m\u001b[1;32m    274\u001b[0m     \u001b[0;34m\"            captcha_image = captcha_image.resize((image_height, image_width))\\n\"\u001b[0m\u001b[0;34m,\u001b[0m\u001b[0;34m\u001b[0m\u001b[0;34m\u001b[0m\u001b[0m\n\u001b[1;32m    275\u001b[0m     \u001b[0;34m\"            captcha_image = numpy.array(captcha_image) / 255.0\\n\"\u001b[0m\u001b[0;34m,\u001b[0m\u001b[0;34m\u001b[0m\u001b[0;34m\u001b[0m\u001b[0m\n",
      "\u001b[0;31mNameError\u001b[0m: name 'train_indices' is not defined"
     ]
    }
   ],
   "source": [
    "captcha_images, predictions, true_values = get_prediction_results(model, \n",
    "                                                                  data_frame, \n",
    "                                                                  test_indices, \n",
    "                                                                  TESTING_BATCH_SIZE,\n",
    "                                                                  IMAGE_HEIGHT,\n",
    "                                                                  IMAGE_WIDTH,\n",
    "                                                                  CATEGORIES)"
   ]
  },
  {
   "cell_type": "code",
   "execution_count": 15,
   "metadata": {
    "scrolled": true
   },
   "outputs": [
    {
     "ename": "NameError",
     "evalue": "name 'captcha_images' is not defined",
     "output_type": "error",
     "traceback": [
      "\u001b[0;31m---------------------------------------------------------------------------\u001b[0m",
      "\u001b[0;31mNameError\u001b[0m                                 Traceback (most recent call last)",
      "\u001b[0;32m/tmp/ipykernel_5318/892354955.py\u001b[0m in \u001b[0;36m<module>\u001b[0;34m\u001b[0m\n\u001b[0;32m----> 1\u001b[0;31m display_predictions_from_model(captcha_images, \n\u001b[0m\u001b[1;32m      2\u001b[0m                                \u001b[0mpredictions\u001b[0m\u001b[0;34m,\u001b[0m\u001b[0;34m\u001b[0m\u001b[0;34m\u001b[0m\u001b[0m\n\u001b[1;32m      3\u001b[0m                                true_values)\n",
      "\u001b[0;31mNameError\u001b[0m: name 'captcha_images' is not defined"
     ]
    }
   ],
   "source": [
    "display_predictions_from_model(captcha_images, \n",
    "                               predictions, \n",
    "                               true_values)"
   ]
  },
  {
   "cell_type": "markdown",
   "metadata": {},
   "source": [
    "## Save the Model"
   ]
  },
  {
   "cell_type": "code",
   "execution_count": null,
   "metadata": {},
   "outputs": [],
   "source": [
    "#model.save('my_model')"
   ]
  }
 ],
 "metadata": {
  "kernelspec": {
   "display_name": "Python 3",
   "language": "python",
   "name": "python3"
  },
  "language_info": {
   "codemirror_mode": {
    "name": "ipython",
    "version": 3
   },
   "file_extension": ".py",
   "mimetype": "text/x-python",
   "name": "python",
   "nbconvert_exporter": "python",
   "pygments_lexer": "ipython3",
   "version": "3.9.6"
  }
 },
 "nbformat": 4,
 "nbformat_minor": 2
}
